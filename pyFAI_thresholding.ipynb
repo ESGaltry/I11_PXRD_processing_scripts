{
 "cells": [
  {
   "cell_type": "markdown",
   "id": "eda25d24",
   "metadata": {},
   "source": [
    "# Thresholding processing regime using pyFAI"
   ]
  },
  {
   "cell_type": "markdown",
   "id": "184b0579",
   "metadata": {},
   "source": [
    "## Import modules"
   ]
  },
  {
   "cell_type": "code",
   "execution_count": null,
   "id": "c9c987ea",
   "metadata": {},
   "outputs": [],
   "source": [
    "import numpy as np\n",
    "import matplotlib.pyplot as plt\n",
    "import h5py\n",
    "import os\n",
    "import matplotlib as mpl\n",
    "import pandas as pd        \n",
    "import math\n",
    "\n",
    "import sys\n",
    "!{sys.executable} -m pip install pyFAI\n",
    "import pyFAI\n",
    "from pyFAI.gui import jupyter\n",
    "\n",
    "!{sys.executable} -m pip install pybaselines\n",
    "from pybaselines import Baseline\n",
    "from pybaselines.utils import gaussian\n",
    "\n",
    "pi = math.pi"
   ]
  },
  {
   "cell_type": "markdown",
   "id": "c524449d",
   "metadata": {},
   "source": [
    "## Specify diffraction frame to read in"
   ]
  },
  {
   "cell_type": "code",
   "execution_count": null,
   "id": "f048bb58",
   "metadata": {},
   "outputs": [],
   "source": [
    "# data file from I11 in form i11-1-61284.nxs, adjust depending on data name and format\n",
    "\n",
    "\n",
    "data_file_no = \"61284\"\n",
    "\n",
    "data_dir = \"C:/path/to/your/data/file/\"\n",
    "\n",
    "data_file = \"i11-1-\" + data_file_no + \".nxs\"\n",
    "\n",
    "file_path = os.path.join(data_dir, data_file)"
   ]
  },
  {
   "cell_type": "code",
   "execution_count": null,
   "id": "95b2aa79",
   "metadata": {},
   "outputs": [],
   "source": [
    "# creation of folder to store processed information\n",
    "processing_folder = \"processed_patterns/individual_frames/\"\n",
    "processing_path = os.path.join(data_dir,processing_folder)\n",
    "\n",
    "\n",
    "if not os.path.exists(processing_path):\n",
    "    os.makedirs(processing_path)"
   ]
  },
  {
   "cell_type": "code",
   "execution_count": null,
   "id": "5735f684",
   "metadata": {},
   "outputs": [],
   "source": [
    "with h5py.File(file_path, 'r') as dat:\n",
    "    \n",
    "    #load in as (1, 1441, 1440) shape array\n",
    "    myData = np.array(dat[\"/entry1/pixium_hdf/data\"][()][:]) \n",
    "    \n",
    "    #extract only (1441,1440)\n",
    "    diff_frame = myData.reshape(myData.shape[1:])\n",
    "    \n",
    "total_intensity = np.sum(diff_frame)\n",
    "\n",
    "diff_frame"
   ]
  },
  {
   "cell_type": "code",
   "execution_count": null,
   "id": "2c44e171",
   "metadata": {},
   "outputs": [],
   "source": [
    "# visualise chosen diffraction frame\n",
    "\n",
    "plt.rcParams[\"figure.figsize\"]=14,14\n",
    "plt.title(data_file, fontsize=24)\n",
    "plt.imshow(diff_frame, cmap='gray', vmin=0, vmax=300)\n",
    "plt.colorbar()\n",
    "plt.show()"
   ]
  },
  {
   "cell_type": "code",
   "execution_count": null,
   "id": "85b66283",
   "metadata": {},
   "outputs": [],
   "source": [
    "# specify background directory location from diffraction_sorting.py step for collection set\n",
    "# also need to be .nxs files\n",
    "\n",
    "background_dir = \"C:/path/to/your/background/frames/\"\n",
    "count = 0\n",
    "bg_file_nxs = []\n",
    "\n",
    "# Count the number of .nxs files in directory\n",
    "for files in os.listdir(background_dir):\n",
    "    filename = os.fsdecode(files)\n",
    "    if filename.endswith(\".nxs\"):\n",
    "        bg_file_nxs.append(filename)\n",
    "        count += 1\n",
    "print('File count:', count)\n",
    "print(bg_file_nxs)\n"
   ]
  },
  {
   "cell_type": "code",
   "execution_count": null,
   "id": "00f64d1e",
   "metadata": {},
   "outputs": [],
   "source": [
    "# read in background frames and calculate total counts\n",
    "\n",
    "bg_frame_sized = np.zeros((count, 1441, 1440))\n",
    "basic_bg_sub = np.zeros((count, 1441, 1440))\n",
    "total_intensity = np.zeros(count)\n",
    "a = 0\n",
    "\n",
    "while a < count:\n",
    "    with h5py.File(background_dir+bg_file_nxs[a], 'r') as dat:\n",
    "        background_frame = np.array(dat[\"/entry1/pixium_hdf/data\"][()][:]) \n",
    "        bg_frame_sized[a] = background_frame.reshape(background_frame.shape[1:])\n",
    "        basic_bg_sub[a] = np.subtract(diff_frame,bg_frame_sized[a])\n",
    "        basic_bg_sub[a][basic_bg_sub[a] < 0] = 0\n",
    "        total_intensity[a] = np.sum(basic_bg_sub[a])\n",
    "        a += 1\n"
   ]
  },
  {
   "cell_type": "code",
   "execution_count": null,
   "id": "f9903490",
   "metadata": {},
   "outputs": [],
   "source": [
    "# visualisation of background best fit checks. Edit subplots (2,3) depending on plots to visualise\n",
    "\n",
    "#fig, axs = plt.subplots(2,5, figsize=(15, 6), facecolor='w', edgecolor='k')\n",
    "fig, axs = plt.subplots(2,3, figsize=(15, 20), facecolor='w', edgecolor='k')\n",
    "fig.subplots_adjust(hspace = .5, wspace=.001)\n",
    "\n",
    "axs = axs.ravel()\n",
    "\n",
    "for i in range(count):\n",
    "    fig.suptitle('Basic background subraction best fit check', fontsize=24)\n",
    "    axs[i].imshow(basic_bg_sub[i],cmap='gray',vmin=0, vmax=100)\n",
    "    axs[i].set_title(bg_file_nxs[i]+\"\\nTotal intensity:\"+str(round(total_intensity[i])), fontweight= 'bold')"
   ]
  },
  {
   "cell_type": "code",
   "execution_count": null,
   "id": "56cddecc",
   "metadata": {},
   "outputs": [],
   "source": [
    "# autoselection of best-fit background\n",
    "\n",
    "chosen_bg_name = bg_file_nxs[np.argmin(total_intensity)]\n",
    "\n",
    "chosen_bg = bg_frame_sized[np.argmin(total_intensity)]\n",
    "\n",
    "print('Chosen background: ' + str(chosen_bg_name) + '\\nTotal intensity: ' + str(total_intensity[np.argmin(total_intensity)]))\n",
    "#print('chosen background:' + chosen_bg)"
   ]
  },
  {
   "cell_type": "code",
   "execution_count": null,
   "id": "24ea2a22",
   "metadata": {},
   "outputs": [],
   "source": [
    "# visualisation of chosen background frame\n",
    "\n",
    "plt.rcParams[\"figure.figsize\"]=14,14\n",
    "plt.title(chosen_bg_name, fontsize=24)\n",
    "plt.imshow(chosen_bg, cmap='gray', vmin=0, vmax=500)\n",
    "plt.colorbar()\n",
    "plt.show()"
   ]
  },
  {
   "cell_type": "code",
   "execution_count": null,
   "id": "b38d74f7",
   "metadata": {
    "scrolled": false
   },
   "outputs": [],
   "source": [
    "# background subtraction of background frame from diffraction frame\n",
    "\n",
    "pattern_process = diff_frame - chosen_bg\n",
    "\n",
    "basic_pattern_name = data_file_no + \"_bg_\" + chosen_bg_name[6:-4]\n",
    "basic_pattern_name"
   ]
  },
  {
   "cell_type": "code",
   "execution_count": null,
   "id": "60df6941",
   "metadata": {},
   "outputs": [],
   "source": [
    "# visualisation of basic background subtraction\n",
    "\n",
    "plt.rcParams[\"figure.figsize\"]=14,14\n",
    "plt.title(basic_pattern_name, fontsize=24)\n",
    "plt.imshow(pattern_process, cmap='gray', vmin=0, vmax=100)\n",
    "plt.colorbar()\n",
    "#plt.savefig(processing_path + basic_pattern_name +\".png\")\n",
    "plt.show()"
   ]
  },
  {
   "cell_type": "markdown",
   "id": "5db934d7",
   "metadata": {},
   "source": [
    "# Thresholding"
   ]
  },
  {
   "cell_type": "code",
   "execution_count": null,
   "id": "628faae2",
   "metadata": {},
   "outputs": [],
   "source": [
    "# thresholding to remove remaining noise - change threshold_value\n",
    "\n",
    "pattern_processing = diff_frame - chosen_bg\n",
    "\n",
    "threshold_value = 120\n",
    "\n",
    "pattern_processing[pattern_processing < threshold_value] = 0\n",
    "\n",
    "thresholded_frame = pattern_processing"
   ]
  },
  {
   "cell_type": "code",
   "execution_count": null,
   "id": "13ec25b0",
   "metadata": {},
   "outputs": [],
   "source": [
    "# visualise thresholding, change threshold value if noise remains\n",
    "\n",
    "threshold_pattern_name = data_file_no + \"_bg_\" + chosen_bg_name[6:-4] + \"_threshold_\" + str(threshold_value)\n",
    "\n",
    "plt.rcParams[\"figure.figsize\"]=14,14\n",
    "plt.title(threshold_pattern_name, fontsize=24)\n",
    "plt.imshow(thresholded_frame, cmap='gray', vmin=20, vmax=100)\n",
    "plt.colorbar()\n",
    "#plt.savefig(processing_path + threshold_pattern_name + \".png\")\n",
    "plt.show()"
   ]
  },
  {
   "cell_type": "markdown",
   "id": "398444df",
   "metadata": {},
   "source": [
    "# Load calibration file\n",
    "\n",
    "calibrated using pyFAI-calib2 tool\n",
    "\n",
    "pyFAI: https://pyfai.readthedocs.io/en/v2023.1/"
   ]
  },
  {
   "cell_type": "code",
   "execution_count": null,
   "id": "a563ab8e",
   "metadata": {},
   "outputs": [],
   "source": [
    "# load the calibration .poni file \n",
    "calibration = pyFAI.load('C:/poni/file/location/calibration.poni')\n",
    "calibration"
   ]
  },
  {
   "cell_type": "code",
   "execution_count": null,
   "id": "7d87fe3f",
   "metadata": {},
   "outputs": [],
   "source": [
    "#load mask for detector frame\n",
    "oneD_mask = np.load(\"C:/mask/file/location/mask.npy\")"
   ]
  },
  {
   "cell_type": "markdown",
   "id": "875fd7a1",
   "metadata": {},
   "source": [
    "## Integration using pyFAI module\n",
    "#### pyFAI: https://pyfai.readthedocs.io/en/v2023.1/"
   ]
  },
  {
   "cell_type": "code",
   "execution_count": null,
   "id": "665f6bef",
   "metadata": {},
   "outputs": [],
   "source": [
    "#integrate pattern using pyFAI and display. Re-threshold if noise remains\n",
    "\n",
    "oneD_integrated_plot_thresholded = calibration.integrate1d(thresholded_frame, 1000, unit=pyFAI.units.TTH_DEG, radial_range=[0,30], mask=mask.npy)\n",
    "jupyter.plot1d(oneD_integrated_plot_thresholded)\n",
    "plt.title(threshold_pattern_name, fontsize=15)\n",
    "plt.xlabel('$2\\\\theta$ ($^{o}$)')\n",
    "plt.xlim(4, 30)\n",
    "plt.ylabel('Intensity')\n",
    "#plt.savefig(processing_path + threshold_pattern_name +\"_1D_plot\")"
   ]
  },
  {
   "cell_type": "code",
   "execution_count": null,
   "id": "30b0ad3d",
   "metadata": {},
   "outputs": [],
   "source": [
    "# export processed frame as .xy file\n",
    "\n",
    "np.savetxt(processing_path+threshold_pattern_name + \".xy\", np.c_[oneD_integrated_plot_thresholded.radial, oneD_integrated_plot_thresholded.intensity])"
   ]
  }
 ],
 "metadata": {
  "kernelspec": {
   "display_name": "Python 3 (ipykernel)",
   "language": "python",
   "name": "python3"
  },
  "language_info": {
   "codemirror_mode": {
    "name": "ipython",
    "version": 3
   },
   "file_extension": ".py",
   "mimetype": "text/x-python",
   "name": "python",
   "nbconvert_exporter": "python",
   "pygments_lexer": "ipython3",
   "version": "3.9.12"
  }
 },
 "nbformat": 4,
 "nbformat_minor": 5
}
