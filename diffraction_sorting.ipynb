{
 "cells": [
  {
   "cell_type": "markdown",
   "id": "7bca0858",
   "metadata": {},
   "source": [
    "# Spot Finding for diffraction/background sorting"
   ]
  },
  {
   "cell_type": "markdown",
   "id": "300c8787",
   "metadata": {},
   "source": [
    "used to move files into diffraction and potential backgrounds folder"
   ]
  },
  {
   "cell_type": "code",
   "execution_count": null,
   "id": "40d965e2",
   "metadata": {},
   "outputs": [],
   "source": [
    "# import relevant libraries\n",
    "import numpy as np\n",
    "import matplotlib.pyplot as plt\n",
    "import h5py\n",
    "import os\n",
    "import matplotlib as mpl"
   ]
  },
  {
   "cell_type": "code",
   "execution_count": null,
   "id": "8bec2259",
   "metadata": {},
   "outputs": [],
   "source": [
    "# read in all nxs file names in given directory\n",
    "# directory needs \"/\" not \"\\\" and a \"/\" on the end\n",
    "directory = \"C:/directory/to/your/data/\"\n",
    "nxs_count = 0\n",
    "nxs_files = []\n",
    "\n",
    "# Count the number of .nxs files in directory\n",
    "for files in os.listdir(directory):\n",
    "    filename = os.fsdecode(files)\n",
    "    if filename.endswith(\".nxs\"):\n",
    "        nxs_files.append(filename)\n",
    "        nxs_count += 1\n",
    "print('File count:', nxs_count)"
   ]
  },
  {
   "cell_type": "code",
   "execution_count": null,
   "id": "7d1e2b5a",
   "metadata": {},
   "outputs": [],
   "source": [
    "processing_folder = \"processing_info/\"\n",
    "processing_path = os.path.join(directory,processing_folder)\n",
    "\n",
    "\n",
    "if not os.path.exists(processing_path):\n",
    "    os.makedirs(processing_path)"
   ]
  },
  {
   "cell_type": "code",
   "execution_count": null,
   "id": "23925bd2",
   "metadata": {},
   "outputs": [],
   "source": [
    "# read in all frames in directory into a numpy array\n",
    "frame_sized = np.zeros((nxs_count, 1441, 1440))\n",
    "a = 0\n",
    "\n",
    "while a < nxs_count:\n",
    "    with h5py.File(directory+nxs_files[a], 'r') as dat:\n",
    "        nxs_frame = np.array(dat[\"/entry1/pixium_hdf/data\"][()][:]) \n",
    "        frame_sized[a] = nxs_frame.reshape(nxs_frame.shape[1:])\n",
    "        a += 1"
   ]
  },
  {
   "cell_type": "code",
   "execution_count": null,
   "id": "3dac594a",
   "metadata": {},
   "outputs": [],
   "source": [
    "# select value of the \"5th\" (or other, based on pixel_intensity_no) most intense pixel\n",
    "# print those pixel intensities\n",
    "\n",
    "pixel_intensity_no = 5\n",
    "\n",
    "flat_intensities = np.zeros((nxs_count, 2075040))\n",
    "pixel_values = np.zeros((nxs_count))\n",
    "b = 0\n",
    "\n",
    "while b < nxs_count:\n",
    "    flat_intensities[b] = frame_sized[b].flatten()\n",
    "    flat_intensities[b].sort()\n",
    "    pixel_values[b] = flat_intensities[b][-pixel_intensity_no]\n",
    "    b += 1\n",
    "    \n",
    "print(pixel_values)"
   ]
  },
  {
   "cell_type": "code",
   "execution_count": null,
   "id": "d54b0520",
   "metadata": {},
   "outputs": [],
   "source": [
    "#used to rename files for plot, need to change [138:-1] depending on you directory location string length\n",
    "\n",
    "datasets_name = directory[138:-1]\n",
    "modified_datasets_name = datasets_name.replace(\"/\", \"_\")\n",
    "plot_name = modified_datasets_name + \"_\" + str(pixel_intensity_no) +\"th_I_plot.png\"\n",
    "plot_directory = directory + plot_name\n",
    "\n",
    "print(modified_datasets_name)\n",
    "print(plot_name)\n",
    "print(plot_directory)"
   ]
  },
  {
   "cell_type": "code",
   "execution_count": null,
   "id": "02bcd090",
   "metadata": {},
   "outputs": [],
   "source": [
    "# plot graph of frame name vs pixel intensities\n",
    "plt.rcParams[\"figure.figsize\"]=18,10\n",
    "plt.title(datasets_name + \" Intensity plot\", fontsize=24)\n",
    "plt.bar(nxs_files, pixel_values, width=0.8, align='center')\n",
    "plt.xticks(range(len(nxs_files)), nxs_files, rotation='vertical')\n",
    "plt.xlabel('Frame name', fontsize=15)\n",
    "plt.ylabel('Intensity of '+str(pixel_intensity_no)+'th most intense pixel',fontsize=15)\n",
    "plt.savefig(processing_path + plot_name)\n",
    "plt.show()\n"
   ]
  },
  {
   "cell_type": "code",
   "execution_count": null,
   "id": "4d73a04f",
   "metadata": {
    "scrolled": false
   },
   "outputs": [],
   "source": [
    "# read in hdf file names\n",
    "hdf_count = 0\n",
    "hdf_files = []\n",
    "\n",
    "\n",
    "for files2 in os.listdir(directory):\n",
    "    filename2 = os.fsdecode(files2)\n",
    "    if filename2.endswith(\".hdf\"):\n",
    "        hdf_files.append(filename2)\n",
    "        hdf_count += 1\n",
    "        \n",
    "names_values = np.array([nxs_files, pixel_values, hdf_files])"
   ]
  },
  {
   "cell_type": "code",
   "execution_count": null,
   "id": "44e58ea3",
   "metadata": {
    "scrolled": false
   },
   "outputs": [],
   "source": [
    "# threshold potential backgrounds/diffraction frames with spots_threshold\n",
    "# list the number of potential backgrounds and names of these\n",
    "\n",
    "# change spots threshold to desired cut off for diffraction/background\n",
    "\n",
    "spots_threshold = 800\n",
    "\n",
    "diffraction_frames = []\n",
    "diffraction_hdf = []\n",
    "background_frames = []\n",
    "background_hdf = []\n",
    "c = 0\n",
    "\n",
    "while c < nxs_count:\n",
    "    if float(names_values[:, c][1]) > spots_threshold:\n",
    "        diffraction_frames.append(names_values[:, c][0])\n",
    "        diffraction_hdf.append(names_values[:,c][2])\n",
    "        c += 1\n",
    "    else:\n",
    "        background_frames.append(names_values[:, c][0])\n",
    "        background_hdf.append(names_values[:,c][2])\n",
    "        c += 1\n",
    "\n",
    "print('Number of potential background frames:',len(background_frames))\n",
    "background_frames"
   ]
  },
  {
   "cell_type": "code",
   "execution_count": null,
   "id": "8a426ad8",
   "metadata": {
    "scrolled": false
   },
   "outputs": [],
   "source": [
    "# name and make the directory for the potential backgrounds to be put into\n",
    "\n",
    "backgrounds_folder = \"Potential backgrounds/\"\n",
    "bg_path = os.path.join(directory,backgrounds_folder)\n",
    "\n",
    "\n",
    "if not os.path.exists(bg_path):\n",
    "    os.makedirs(bg_path)"
   ]
  },
  {
   "cell_type": "code",
   "execution_count": null,
   "id": "73837f43",
   "metadata": {
    "scrolled": true
   },
   "outputs": [],
   "source": [
    "# move the nxs and hdf files for the potential backgrounds into the potential backgrounds directory\n",
    "\n",
    "for files in os.listdir(directory):\n",
    "    filename = os.fsdecode(files)\n",
    "    if filename in background_frames:\n",
    "        os.replace(os.path.join(directory,filename), os.path.join(bg_path,filename))\n",
    "        \n",
    "    elif filename in background_hdf:\n",
    "        os.replace(os.path.join(directory,filename), os.path.join(bg_path,filename))"
   ]
  },
  {
   "cell_type": "markdown",
   "id": "a9e26e92",
   "metadata": {},
   "source": [
    "# Now check background/diffraction frame in DAWN and sort into appropriate folder"
   ]
  },
  {
   "cell_type": "markdown",
   "id": "ac631295",
   "metadata": {},
   "source": [
    "DAWN download at https://dawnsci.org/"
   ]
  },
  {
   "cell_type": "code",
   "execution_count": null,
   "id": "66923f2a",
   "metadata": {},
   "outputs": [],
   "source": [
    "diff_count = 0\n",
    "\n",
    "for files in os.listdir(directory):\n",
    "    filename = os.fsdecode(files)\n",
    "    if filename.endswith(\".nxs\"):\n",
    "        diff_count += 1\n",
    "print('Sorted diffraction frames:', diff_count)\n",
    "\n",
    "\n",
    "bg_count = 0\n",
    "\n",
    "for files in os.listdir(bg_path):\n",
    "    filename = os.fsdecode(files)\n",
    "    if filename.endswith(\".nxs\"):\n",
    "        bg_count += 1\n",
    "print('Sorted background frames:', bg_count)"
   ]
  },
  {
   "cell_type": "code",
   "execution_count": null,
   "id": "9c12a78e",
   "metadata": {},
   "outputs": [],
   "source": [
    "hit_rate = round((diff_count/nxs_count * 100), 1)\n",
    "hit_rate_text = str(hit_rate) + \"%\"\n",
    "print(\"Hit rate: \" + hit_rate_text)"
   ]
  },
  {
   "cell_type": "code",
   "execution_count": null,
   "id": "b9e9addd",
   "metadata": {},
   "outputs": [],
   "source": [
    "output_file_path = processing_path + modified_datasets_name+ \"_hit_rates.txt\"\n",
    "\n",
    "with open(output_file_path, 'w') as file:\n",
    "    file.write(f\"Datasets location: {directory}\\n\\n\")\n",
    "    file.write(f\"Total frames:   {nxs_count}\\n\\n\")\n",
    "    file.write(f\"Pixel intensity number: {pixel_intensity_no}\\n\")\n",
    "    file.write(f\"Spots threshold: {spots_threshold}\\n\")\n",
    "    file.write(f\"Number of thresholded background frames: {str(len(background_frames))}\\n\\n\")\n",
    "    file.write(f\"Frames with diffraction:    {diff_count} \\n\")\n",
    "    file.write(f\"Sorted background frames:    {bg_count} \\n\\n\")\n",
    "    file.write(f\"Hit rate:    {hit_rate_text} \\n\\n\")"
   ]
  },
  {
   "cell_type": "code",
   "execution_count": null,
   "id": "20b147d8",
   "metadata": {},
   "outputs": [],
   "source": []
  }
 ],
 "metadata": {
  "kernelspec": {
   "display_name": "Python 3 (ipykernel)",
   "language": "python",
   "name": "python3"
  },
  "language_info": {
   "codemirror_mode": {
    "name": "ipython",
    "version": 3
   },
   "file_extension": ".py",
   "mimetype": "text/x-python",
   "name": "python",
   "nbconvert_exporter": "python",
   "pygments_lexer": "ipython3",
   "version": "3.9.12"
  }
 },
 "nbformat": 4,
 "nbformat_minor": 5
}
