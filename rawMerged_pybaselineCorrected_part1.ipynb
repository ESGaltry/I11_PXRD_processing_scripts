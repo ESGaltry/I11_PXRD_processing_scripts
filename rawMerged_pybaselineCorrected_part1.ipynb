{
 "cells": [
  {
   "cell_type": "markdown",
   "id": "eda25d24",
   "metadata": {},
   "source": [
    "# Post-merging baseline correction technique"
   ]
  },
  {
   "cell_type": "markdown",
   "id": "184b0579",
   "metadata": {},
   "source": [
    "## Import modules"
   ]
  },
  {
   "cell_type": "code",
   "execution_count": null,
   "id": "c9c987ea",
   "metadata": {},
   "outputs": [],
   "source": [
    "import numpy as np\n",
    "import matplotlib.pyplot as plt\n",
    "import h5py\n",
    "import os\n",
    "import matplotlib as mpl\n",
    "import pandas as pd        \n",
    "import math\n",
    "\n",
    "import sys\n",
    "!{sys.executable} -m pip install pyFAI\n",
    "import pyFAI\n",
    "from pyFAI.gui import jupyter\n",
    "\n",
    "!{sys.executable} -m pip install pybaselines\n",
    "from pybaselines import Baseline\n",
    "from pybaselines.utils import gaussian\n",
    "\n",
    "pi = math.pi"
   ]
  },
  {
   "cell_type": "markdown",
   "id": "c524449d",
   "metadata": {},
   "source": [
    "## Specify diffraction frame to read in"
   ]
  },
  {
   "cell_type": "code",
   "execution_count": null,
   "id": "f048bb58",
   "metadata": {},
   "outputs": [],
   "source": [
    "# data file from I11 in form i11-1-61284.nxs, adjust depending on data name and format\n",
    "\n",
    "\n",
    "data_file_no = \"61284\"\n",
    "\n",
    "data_dir = \"C:/path/to/your/data/file/\"\n",
    "\n",
    "data_file = \"i11-1-\" + data_file_no + \".nxs\"\n",
    "\n",
    "file_path = os.path.join(data_dir, data_file)"
   ]
  },
  {
   "cell_type": "code",
   "execution_count": null,
   "id": "95b2aa79",
   "metadata": {},
   "outputs": [],
   "source": [
    "# creation of folder to store processed information\n",
    "processing_folder = \"processed_patterns/individual_frames/\"\n",
    "processing_path = os.path.join(data_dir,processing_folder)\n",
    "\n",
    "\n",
    "if not os.path.exists(processing_path):\n",
    "    os.makedirs(processing_path)"
   ]
  },
  {
   "cell_type": "code",
   "execution_count": null,
   "id": "5735f684",
   "metadata": {},
   "outputs": [],
   "source": [
    "with h5py.File(file_path, 'r') as dat:\n",
    "    \n",
    "    #load in as (1, 1441, 1440) shape array\n",
    "    myData = np.array(dat[\"/entry1/pixium_hdf/data\"][()][:]) \n",
    "    \n",
    "    #extract only (1441,1440)\n",
    "    diff_frame = myData.reshape(myData.shape[1:])\n",
    "    \n",
    "total_intensity = np.sum(diff_frame)\n",
    "\n",
    "diff_frame"
   ]
  },
  {
   "cell_type": "code",
   "execution_count": null,
   "id": "2c44e171",
   "metadata": {},
   "outputs": [],
   "source": [
    "# visualise chosen diffraction frame\n",
    "\n",
    "plt.rcParams[\"figure.figsize\"]=14,14\n",
    "plt.title(data_file, fontsize=24)\n",
    "plt.imshow(diff_frame, cmap='gray', vmin=0, vmax=300)\n",
    "plt.colorbar()\n",
    "plt.show()"
   ]
  },
  {
   "cell_type": "markdown",
   "id": "e554c7aa",
   "metadata": {},
   "source": [
    "# Load calibration file\n",
    "\n",
    "calibrated using pyFAI-calib2 tool\n",
    "\n",
    "pyFAI: https://pyfai.readthedocs.io/en/v2023.1/"
   ]
  },
  {
   "cell_type": "code",
   "execution_count": null,
   "id": "a563ab8e",
   "metadata": {},
   "outputs": [],
   "source": [
    "# load the calibration .poni file \n",
    "calibration = pyFAI.load('C:/poni/file/location/calibration.poni')\n",
    "calibration"
   ]
  },
  {
   "cell_type": "code",
   "execution_count": null,
   "id": "7d87fe3f",
   "metadata": {},
   "outputs": [],
   "source": [
    "#load mask for detector frame\n",
    "oneD_mask = np.load(\"C:/mask/file/location/mask.npy\")"
   ]
  },
  {
   "cell_type": "markdown",
   "id": "ba4e07c1",
   "metadata": {},
   "source": [
    "## Integration using pyFAI module\n",
    "#### pyFAI: https://pyfai.readthedocs.io/en/v2023.1/"
   ]
  },
  {
   "cell_type": "code",
   "execution_count": null,
   "id": "665f6bef",
   "metadata": {},
   "outputs": [],
   "source": [
    "oneD_integrated_plot_raw = calibration.integrate1d(diff_frame, 1000, unit=pyFAI.units.TTH_DEG, radial_range=[0,30], mask=mask.npy)\n",
    "jupyter.plot1d(oneD_integrated_plot_raw)\n",
    "plt.title(threshold_pattern_name, fontsize=15)\n",
    "plt.xlabel('$2\\\\theta$ ($^{o}$)')\n",
    "plt.xlim(4, 30)\n",
    "plt.ylabel('Intensity')\n",
    "#plt.savefig(processing_path + threshold_pattern_name +\"_1D_plot\")"
   ]
  },
  {
   "cell_type": "code",
   "execution_count": null,
   "id": "30b0ad3d",
   "metadata": {},
   "outputs": [],
   "source": [
    "# export raw 1D integrated frame for merging with others in the collection set and baseline correction using \"rawMerged_pybaselineCorrected_part2.py\"\n",
    "\n",
    "np.savetxt(processing_path+str(data_file_no) + \"_raw1D.xy\", np.c_[oneD_integrated_plot_raw.radial, oneD_integrated_plot_raw.intensity])"
   ]
  },
  {
   "cell_type": "code",
   "execution_count": null,
   "id": "f42847c2",
   "metadata": {},
   "outputs": [],
   "source": []
  },
  {
   "cell_type": "code",
   "execution_count": null,
   "id": "606d155b",
   "metadata": {},
   "outputs": [],
   "source": []
  }
 ],
 "metadata": {
  "kernelspec": {
   "display_name": "Python 3 (ipykernel)",
   "language": "python",
   "name": "python3"
  },
  "language_info": {
   "codemirror_mode": {
    "name": "ipython",
    "version": 3
   },
   "file_extension": ".py",
   "mimetype": "text/x-python",
   "name": "python",
   "nbconvert_exporter": "python",
   "pygments_lexer": "ipython3",
   "version": "3.9.12"
  }
 },
 "nbformat": 4,
 "nbformat_minor": 5
}
