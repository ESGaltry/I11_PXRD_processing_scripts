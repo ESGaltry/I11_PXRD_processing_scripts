{
 "cells": [
  {
   "cell_type": "markdown",
   "id": "2629b199",
   "metadata": {},
   "source": [
    "# Merging of thresholded or baseline corrected individual patterns in a collection set"
   ]
  },
  {
   "cell_type": "code",
   "execution_count": null,
   "id": "c792dd4d",
   "metadata": {},
   "outputs": [],
   "source": [
    "import numpy as np\n",
    "import matplotlib.pyplot as plt\n",
    "import h5py\n",
    "import os\n",
    "import matplotlib as mpl\n",
    "import pandas as pd        \n",
    "import math\n",
    "\n",
    "import sys\n",
    "!{sys.executable} -m pip install pybaselines\n",
    "from pybaselines import Baseline\n",
    "from pybaselines.utils import gaussian\n",
    "\n",
    "pi = math.pi"
   ]
  },
  {
   "cell_type": "code",
   "execution_count": null,
   "id": "5f542a54",
   "metadata": {},
   "outputs": [],
   "source": [
    "# define what datasets to merge and if they are thresholded or baseline corrected by setting the identifier in the file name\n",
    "\n",
    "datasets_directory = \"C:/path/to/your/individual/xy/files/for/merging/\"\n",
    "\n",
    "identifier = \"threshold\"\n",
    "\n",
    "# or\n",
    "\n",
    "identifier = \"baseline_corr\"\n",
    "\n",
    "\n",
    "merged_xy_data = []\n",
    "\n",
    "files = os.listdir(datasets_directory)\n",
    "\n",
    "for file in files:\n",
    "    if file.endswith(\".xy\") and identifier in file:\n",
    "        file_path = os.path.join(datasets_directory, file)\n",
    "        data = np.loadtxt(file_path)\n",
    "        two_theta = data[:,0]\n",
    "        intensity = data[:,1]\n",
    "        merged_xy_data.append(intensity)\n",
    "        #xy_data.append(data)\n",
    "\n",
    "# merging and averaging of diffraction data         \n",
    "        \n",
    "added = np.sum(merged_xy_data, axis=0)\n",
    "count = len(merged_xy_data)\n",
    "averaged = added/count\n",
    "print(count)"
   ]
  },
  {
   "cell_type": "code",
   "execution_count": null,
   "id": "479e3e3e",
   "metadata": {},
   "outputs": [],
   "source": [
    "# display of the final merged pattern\n",
    "\n",
    "plt.figure()\n",
    "plt.rcParams[\"figure.figsize\"]=14,14\n",
    "plt.plot(two_theta, averaged, label= 'final_pattern')\n",
    "plt.title(\"test\", fontsize=15)\n",
    "plt.xlabel('$2\\\\theta$ ($^{o}$)')\n",
    "plt.ylabel('Intensity')"
   ]
  },
  {
   "cell_type": "code",
   "execution_count": null,
   "id": "5553d808",
   "metadata": {},
   "outputs": [],
   "source": [
    "# export pattern as xy file\n",
    "# change name to describe thresholded or baseline corrected\n",
    "\n",
    "np.savetxt(output_directory+\"final_merged_pattern\" + \".xy\", np.c_[two_theta, added])"
   ]
  }
 ],
 "metadata": {
  "kernelspec": {
   "display_name": "Python 3 (ipykernel)",
   "language": "python",
   "name": "python3"
  },
  "language_info": {
   "codemirror_mode": {
    "name": "ipython",
    "version": 3
   },
   "file_extension": ".py",
   "mimetype": "text/x-python",
   "name": "python",
   "nbconvert_exporter": "python",
   "pygments_lexer": "ipython3",
   "version": "3.9.12"
  }
 },
 "nbformat": 4,
 "nbformat_minor": 5
}
