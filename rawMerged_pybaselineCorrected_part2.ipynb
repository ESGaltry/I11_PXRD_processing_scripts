{
 "cells": [
  {
   "cell_type": "markdown",
   "id": "40f026e0",
   "metadata": {},
   "source": [
    "# Script to merge raw 1D integrated datasets and perform baseline correction"
   ]
  },
  {
   "cell_type": "code",
   "execution_count": null,
   "id": "d927f1b6",
   "metadata": {},
   "outputs": [],
   "source": [
    "import numpy as np\n",
    "import matplotlib.pyplot as plt\n",
    "import h5py\n",
    "import os\n",
    "import matplotlib as mpl\n",
    "import pandas as pd        \n",
    "import math\n",
    "\n",
    "!{sys.executable} -m pip install pybaselines\n",
    "from pybaselines import Baseline\n",
    "from pybaselines.utils import gaussian\n",
    "\n",
    "pi = math.pi"
   ]
  },
  {
   "cell_type": "code",
   "execution_count": null,
   "id": "af56b4d4",
   "metadata": {},
   "outputs": [],
   "source": [
    "# read in 1D integrated raw .xy patterns\n",
    "\n",
    "datasets_directory = \"C:/path/to/your/collection/of/1D/integrated/raw/patterns/\"\n",
    "\n",
    "identifier = \"_raw1D\"\n",
    "\n",
    "merged_xy_data = []\n",
    "\n",
    "files = os.listdir(datasets_directory)\n",
    "\n",
    "for file in files:\n",
    "    if file.endswith(\".xy\") and identifier in file:\n",
    "        file_path = os.path.join(datasets_directory, file)\n",
    "        data = np.loadtxt(file_path)\n",
    "        two_theta = data[:,0]\n",
    "        intensity = data[:,1]\n",
    "        merged_xy_data.append(intensity)\n",
    "        #xy_data.append(data)\n",
    "\n",
    "        \n",
    "# sum and average 1D integrated patterns\n",
    "added = np.sum(merged_xy_data, axis=0)\n",
    "count = len(merged_xy_data)\n",
    "averaged = added/count\n",
    "print(count)"
   ]
  },
  {
   "cell_type": "code",
   "execution_count": null,
   "id": "45cf6cb0",
   "metadata": {},
   "outputs": [],
   "source": [
    "# display 1D merged pattern\n",
    "\n",
    "plt.figure()\n",
    "plt.rcParams[\"figure.figsize\"]=14,14\n",
    "#plt.plot(two_theta, added, label= 'final_pattern')\n",
    "plt.plot(two_theta, averaged, label= 'final_pattern')\n",
    "plt.title(\"test\", fontsize=15)\n",
    "plt.xlabel('$2\\\\theta$ ($^{o}$)')\n",
    "plt.xlim(4, 20)\n",
    "plt.ylabel('Intensity')"
   ]
  },
  {
   "cell_type": "markdown",
   "id": "0544fb91",
   "metadata": {},
   "source": [
    "# Baseline correction \n",
    "\n",
    "### using https://pybaselines.readthedocs.io/en/latest/ mor() baseline correction"
   ]
  },
  {
   "cell_type": "code",
   "execution_count": null,
   "id": "ab3bba69",
   "metadata": {},
   "outputs": [],
   "source": [
    "# baseline correction set-up\n",
    "\n",
    "x = two_theta\n",
    "y = averaged\n",
    "\n",
    "baseline_fitter = Baseline(x_data=x)"
   ]
  },
  {
   "cell_type": "code",
   "execution_count": null,
   "id": "9e7ced5d",
   "metadata": {},
   "outputs": [],
   "source": [
    "# diaplay baseline fitting, modify half_window to achieve a best fit\n",
    "\n",
    "half_window = 5\n",
    "\n",
    "plt.figure()\n",
    "plt.plot(x, y, label='data')\n",
    "plt.plot(x, baseline_fitter.mor(y, half_window=half_window)[0], label=f'half_window={half_window}')\n",
    "plt.xlim(4, 20)\n",
    "plt.legend()"
   ]
  },
  {
   "cell_type": "code",
   "execution_count": null,
   "id": "6fd71e66",
   "metadata": {},
   "outputs": [],
   "source": [
    "# baseline correction\n",
    "corrected_data = y - baseline_fitter.mor(y, half_window=half_window)[0]"
   ]
  },
  {
   "cell_type": "code",
   "execution_count": null,
   "id": "19936adb",
   "metadata": {},
   "outputs": [],
   "source": [
    "# display all baseline corrected plots\n",
    "\n",
    "plt.figure()\n",
    "plt.plot(x, y, label='data')\n",
    "plt.plot(x, baseline_fitter.mor(y, half_window=half_window)[0], label=f'half_window={half_window}')\n",
    "plt.plot(x, corrected_data, label='corrected_baseline')\n",
    "plt.title('test', fontsize=15)\n",
    "plt.xlabel('$2\\\\theta$ ($^{o}$)')\n",
    "plt.ylabel('Intensity')\n",
    "plt.xlim(4, 20)\n",
    "plt.legend()\n",
    "#plt.savefig(processing_path + twoD_pattern_name_baseline_corr)"
   ]
  },
  {
   "cell_type": "code",
   "execution_count": null,
   "id": "4c768a8a",
   "metadata": {},
   "outputs": [],
   "source": [
    "# display final pattern\n",
    "\n",
    "plt.figure()\n",
    "plt.plot(x, corrected_data, label= 'final_pattern')\n",
    "plt.title('test', fontsize=15)\n",
    "plt.xlabel('$2\\\\theta$ ($^{o}$)')\n",
    "plt.xlim(4, 20)\n",
    "plt.ylabel('Intensity')"
   ]
  },
  {
   "cell_type": "code",
   "execution_count": null,
   "id": "a6fa1925",
   "metadata": {},
   "outputs": [],
   "source": [
    "# save collection set pattern as .xy file\n",
    "\n",
    "np.savetxt(output_directory+\"_collection_set_name\"+\"_merged_raw_baseline_corrected_averagetest\" + \".xy\", np.c_[x, corrected_data])"
   ]
  }
 ],
 "metadata": {
  "kernelspec": {
   "display_name": "Python 3 (ipykernel)",
   "language": "python",
   "name": "python3"
  },
  "language_info": {
   "codemirror_mode": {
    "name": "ipython",
    "version": 3
   },
   "file_extension": ".py",
   "mimetype": "text/x-python",
   "name": "python",
   "nbconvert_exporter": "python",
   "pygments_lexer": "ipython3",
   "version": "3.9.12"
  }
 },
 "nbformat": 4,
 "nbformat_minor": 5
}
